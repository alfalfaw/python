{
 "cells": [
  {
   "cell_type": "code",
   "execution_count": null,
   "metadata": {},
   "outputs": [],
   "source": [
    "import cv2\n",
    "import numpy as np\n",
    "\n",
    "path='/Users/limuyle/Downloads/240133958073978448.jpg'\n",
    "img=cv2.imread(path)\n",
    "hight,width,depth=img.shape[0:3]\n",
    "\n",
    "thresh=cv2.inRange(img,np.array([240,240,240]),np.array([255,255,255]))\n",
    "kernel=np.ones((3,3),np.int8)\n",
    "\n",
    "hi_mask=cv2.dilate(thresh,kernel,iterations=1)\n",
    "specular=cv2.inpaint(img,hi_mask,5,flags=cv2.INPAINT_TELEA)\n",
    "\n",
    "cv2.namedWindow('Image',0)\n",
    "cv2.resizeWindow('Image',int(width/2),int(hight/2))\n",
    "cv2.imshow('Image',img)\n",
    "\n",
    "cv2.namedWindow('newImage',0)\n",
    "cv2.resizeWindow('newImage',int(width/2),int(hight/2))\n",
    "cv2.imshow('newImage',specular)\n",
    "cv2.waitKey(0)\n",
    "cv2.destroyAllWindows()"
   ]
  },
  {
   "cell_type": "code",
   "execution_count": null,
   "metadata": {},
   "outputs": [],
   "source": []
  }
 ],
 "metadata": {
  "kernelspec": {
   "display_name": "Python 3",
   "language": "python",
   "name": "python3"
  },
  "language_info": {
   "codemirror_mode": {
    "name": "ipython",
    "version": 3
   },
   "file_extension": ".py",
   "mimetype": "text/x-python",
   "name": "python",
   "nbconvert_exporter": "python",
   "pygments_lexer": "ipython3",
   "version": "3.6.5"
  }
 },
 "nbformat": 4,
 "nbformat_minor": 2
}
