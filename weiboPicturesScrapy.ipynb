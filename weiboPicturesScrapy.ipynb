{
 "cells": [
  {
   "cell_type": "code",
   "execution_count": 14,
   "metadata": {},
   "outputs": [
    {
     "name": "stdout",
     "output_type": "stream",
     "text": [
      "https://weibo.com/p/aj/album/loading?ajwvr=6&type=photo&owner_uid=3197187502&viewer_uid=&since_id=4260639959052255_4257071878634476_20180723_-1&page_id=1005053197187502&page=3&ajax_call=1&__rnd=1532592645713\n",
      "403\n",
      "b'<!DOCTYPE HTML PUBLIC \"-//IETF//DTD HTML 2.0//EN\">\\r\\n<html>\\r\\n<head><title>403 Forbidden</title></head>\\r\\n<body bgcolor=\"white\">\\r\\n<h1>403 Forbidden</h1>\\r\\n<p>You don\\'t have permission to access the URL on this server. Sorry for the inconvenience.<br/>\\r\\nPlease report this message and include the following information to us.<br/>\\r\\nThank you very much!</p>\\r\\n<table>\\r\\n<tr>\\r\\n<td>URL:</td>\\r\\n<td>http://m.weibo.cn/p/aj/album/loading?ajwvr=6&amp;type=photo&amp;owner_uid=3197187502&amp;viewer_uid=&amp;since_id=4260639959052255_4257071878634476_20180723_-1&amp;page_id=1005053197187502&amp;page=3&amp;ajax_call=1&amp;__rnd=1532592645713</td>\\r\\n</tr>\\r\\n<tr>\\r\\n<td>Server:</td>\\r\\n<td>venus242</td>\\r\\n</tr>\\r\\n<tr>\\r\\n<td>Date:</td>\\r\\n<td>2018/07/26 17:21:51</td>\\r\\n</tr>\\r\\n</table>\\r\\n<hr/>Powered by WeiBo</body>\\r\\n</html>\\r\\n'\n"
     ]
    }
   ],
   "source": [
    "import requests\n",
    "import urllib3 \n",
    "from urllib.parse import urlencode\n",
    "from pyquery import PyQuery as pq\n",
    "from pymongo import MongoClient\n",
    "import random\n",
    "import certifi\n",
    "\n",
    "requests_headers = [\n",
    "    \"Mozilla/5.0 (Windows NT 6.3; WOW64) AppleWebKit/537.36 (KHTML, like Gecko) Chrome/39.0.2171.95 Safari/537.36\",\n",
    "    \"Mozilla/5.0 (Macintosh; Intel Mac OS X 10_9_2) AppleWebKit/537.36 (KHTML, like Gecko) Chrome/35.0.1916.153 Safari/537.36\",\n",
    "    \"Mozilla/5.0 (Windows NT 6.1; WOW64; rv:30.0) Gecko/20100101 Firefox/30.0\",\n",
    "    \"Mozilla/5.0 (Macintosh; Intel Mac OS X 10_9_2) AppleWebKit/537.75.14 (KHTML, like Gecko) Version/7.0.3 Safari/537.75.14\",\n",
    "    \"Mozilla/5.0 (compatible; MSIE 10.0; Windows NT 6.2; Win64; x64; Trident/6.0)\",\n",
    "    'Mozilla/5.0 (Windows; U; Windows NT 5.1; it; rv:1.8.1.11) Gecko/20071127 Firefox/2.0.0.11',\n",
    "    'Opera/9.25 (Windows NT 5.1; U; en)',\n",
    "    'Mozilla/4.0 (compatible; MSIE 6.0; Windows NT 5.1; SV1; .NET CLR 1.1.4322; .NET CLR 2.0.50727)',\n",
    "    'Mozilla/5.0 (compatible; Konqueror/3.5; Linux) KHTML/3.5.5 (like Gecko) (Kubuntu)',\n",
    "    'Mozilla/5.0 (X11; U; Linux i686; en-US; rv:1.8.0.12) Gecko/20070731 Ubuntu/dapper-security Firefox/1.5.0.12',\n",
    "    'Lynx/2.8.5rel.1 libwww-FM/2.14 SSL-MM/1.4.1 GNUTLS/1.2.9',\n",
    "    \"Mozilla/5.0 (X11; Linux i686) AppleWebKit/535.7 (KHTML, like Gecko) Ubuntu/11.04 Chromium/16.0.912.77 Chrome/16.0.912.77 Safari/535.7\",\n",
    "    \"Mozilla/5.0 (X11; Ubuntu; Linux i686; rv:10.0) Gecko/20100101 Firefox/10.0 \"\n",
    "]\n",
    "\n",
    "base_url='https://weibo.com/p/aj/album/loading?'\n",
    "headers={\n",
    "    'Host':'m.weibo.cn',\n",
    "    'Content-Type':'application/x-www-form-urlencoded',\n",
    "    'Referer':'https://weibo.com/p/1005053197187502/photos?type=photo',\n",
    "    'User-Agent':'Lynx/2.8.5rel.1 libwww-FM/2.14 SSL-MM/1.4.1 GNUTLS/1.2.9',\n",
    "    'X-Requested-With':'XMLHttpRequest'\n",
    "}\n",
    "client=MongoClient()\n",
    "db=client['weibo']\n",
    "collection=db['weibo']\n",
    "\n",
    "def get_page(page):\n",
    "    params={\n",
    "        'ajwvr':6,\n",
    "        'type':'photo',\n",
    "        'owner_uid':'3197187502',\n",
    "        'viewer_uid':'',\n",
    "        'since_id':'4260639959052255_4257071878634476_20180723_-1',\n",
    "        'page_id':'1005053197187502',\n",
    "        'page':page,\n",
    "        'ajax_call':'1',\n",
    "        '__rnd':'1532592645713',\n",
    "    }\n",
    "    url=base_url+urlencode(params)\n",
    "    print(url)\n",
    "    http=urllib3.PoolManager(cert_reqs='CERT_REQUIRED',\n",
    "                            ca_certs=certifi.where())\n",
    "    response=http.request('GET',url,headers=headers)\n",
    "    print(response.status)\n",
    "    print(response.data)\n",
    "    \n",
    "#     try:\n",
    "#         response=requests.get(url,headers=headers,allow_redirects=True)\n",
    "#         print(response)\n",
    "#         if response.status_code == 200:\n",
    "#             print(response.content)\n",
    "#             return response\n",
    "#     except requests.ConnectionError as e:\n",
    "#         print('Error',e.args)\n",
    "        \n",
    "if __name__ ==  '__main__':\n",
    "    get_page(3)"
   ]
  },
  {
   "cell_type": "code",
   "execution_count": null,
   "metadata": {},
   "outputs": [],
   "source": []
  },
  {
   "cell_type": "code",
   "execution_count": null,
   "metadata": {},
   "outputs": [],
   "source": []
  },
  {
   "cell_type": "code",
   "execution_count": null,
   "metadata": {},
   "outputs": [],
   "source": []
  }
 ],
 "metadata": {
  "kernelspec": {
   "display_name": "Python 3",
   "language": "python",
   "name": "python3"
  },
  "language_info": {
   "codemirror_mode": {
    "name": "ipython",
    "version": 3
   },
   "file_extension": ".py",
   "mimetype": "text/x-python",
   "name": "python",
   "nbconvert_exporter": "python",
   "pygments_lexer": "ipython3",
   "version": "3.6.5"
  }
 },
 "nbformat": 4,
 "nbformat_minor": 2
}
