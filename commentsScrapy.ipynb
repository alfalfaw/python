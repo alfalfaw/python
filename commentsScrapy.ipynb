{
 "cells": [
  {
   "cell_type": "code",
   "execution_count": 21,
   "metadata": {},
   "outputs": [
    {
     "name": "stdout",
     "output_type": "stream",
     "text": [
      "OK\n",
      "3213231\n"
     ]
    }
   ],
   "source": [
    "import requests\n",
    "import json\n",
    "from urllib.parse import urlencode\n",
    "import time\n",
    "base_url='https://space.bilibili.com/ajax/member/getSubmitVideos?'\n",
    "headers={\n",
    "    'Host':'space.bilibili.com',\n",
    "    'Referer':'https://space.bilibili.com/632887/',\n",
    "    'User-Agent':'Mozilla/5.0 (Macintosh; Intel Mac OS X 10_13_4) AppleWebKit/605.1.15 (KHTML, like Gecko) Version/11.1 Safari/605.1.15',\n",
    "    'X-Requested-With':'XMLHttpRequest'\n",
    "}\n",
    "count=1\n",
    "play_times=0\n",
    "def get_page(page):\n",
    "    params={\n",
    "        'mid':632887,\n",
    "        'page':page,\n",
    "        'pagesize':25\n",
    "    }\n",
    "    url=base_url+urlencode(params)\n",
    "    try:\n",
    "        response=requests.get(url,headers=headers)\n",
    "        if response.status_code == 200:\n",
    "            return response.json()\n",
    "    except requests.ConnectionError as e:\n",
    "        print('Error',e.args)\n",
    "        \n",
    "def parse_page(json):\n",
    "    global play_times\n",
    "    if json:\n",
    "        items=json.get('data').get('vlist')\n",
    "        for item in items:\n",
    "            info={}\n",
    "            info['title']=item.get('title')\n",
    "            info['comment']=item.get('comment')\n",
    "            info['play']=item.get('play')\n",
    "            play_times+=int(item.get('play'))\n",
    "            info['description']=item.get('description')\n",
    "            info['created']=timestamp2datetime(item.get('created'))\n",
    "            info['length']=item.get('length')\n",
    "            info['video_review']=item.get('video_review')\n",
    "            info['favorites']=item.get('favorites')\n",
    "            info['pic']='https:'+item.get('pic')\n",
    "            yield(info)\n",
    "\n",
    "def save_to_file(result):\n",
    "    global count\n",
    "    with open('/Users/limuyle/Desktop/webscrapy/bibivideoinfo.txt','a',encoding='utf-8') as f:\n",
    "        f.write(str(count)+'\\n')\n",
    "        for key in result.keys():\n",
    "            f.write(key+':  '+str(result[key])+'\\n')\n",
    "        f.write('\\n')\n",
    "    count+=1\n",
    "    \n",
    "def timestamp2datetime(timestamp):\n",
    "    format='%Y-%m-%d  %H:%M:%S'\n",
    "    local_time=time.localtime(timestamp)\n",
    "    datetime=time.strftime(format,local_time)\n",
    "    return datetime\n",
    "        \n",
    "        \n",
    "if __name__ =='__main__':\n",
    "    json=get_page(1)\n",
    "    for item in parse_page(json):\n",
    "        pass\n",
    "#         save_to_file(item)\n",
    "\n",
    "    print('OK')\n",
    "    print(play_times)\n",
    "    "
   ]
  },
  {
   "cell_type": "code",
   "execution_count": 6,
   "metadata": {},
   "outputs": [
    {
     "name": "stdout",
     "output_type": "stream",
     "text": [
      "{'name': 'many', 'age': 10, 'sex': 'male'}\n",
      "<class 'str'>\n",
      "{\"name\": \"many\", \"age\": 10, \"sex\": \"male\"}\n"
     ]
    }
   ],
   "source": [
    "import json\n",
    "\n",
    "def dict_to_json():\n",
    "    dict = {}\n",
    "    dict['name'] = 'many'\n",
    "    dict['age'] = 10\n",
    "    dict['sex'] = 'male'\n",
    "    print(dict)  # 输出：{'name': 'many', 'age': 10, 'sex': 'male'}\n",
    "    j = json.dumps(dict)\n",
    "    print(type(j))\n",
    "    print(j)  # 输出：{\"name\": \"many\", \"age\": 10, \"sex\": \"male\"}\n",
    "\n",
    "\n",
    "if __name__ == '__main__':\n",
    "    dict_to_json()"
   ]
  },
  {
   "cell_type": "code",
   "execution_count": null,
   "metadata": {},
   "outputs": [],
   "source": []
  }
 ],
 "metadata": {
  "kernelspec": {
   "display_name": "Python 3",
   "language": "python",
   "name": "python3"
  },
  "language_info": {
   "codemirror_mode": {
    "name": "ipython",
    "version": 3
   },
   "file_extension": ".py",
   "mimetype": "text/x-python",
   "name": "python",
   "nbconvert_exporter": "python",
   "pygments_lexer": "ipython3",
   "version": "3.6.5"
  }
 },
 "nbformat": 4,
 "nbformat_minor": 2
}
