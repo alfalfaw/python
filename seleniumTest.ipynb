{
 "cells": [
  {
   "cell_type": "code",
   "execution_count": 2,
   "metadata": {},
   "outputs": [
    {
     "name": "stdout",
     "output_type": "stream",
     "text": [
      "<selenium.webdriver.remote.webelement.WebElement (session=\"5ac65f4559c28d9928c7d5e35bc41718\", element=\"0.043029453756968206-1\")>\n"
     ]
    }
   ],
   "source": [
    "from selenium import webdriver\n",
    "from selenium.webdriver.common.by import By\n",
    "from selenium.webdriver.common.keys import Keys\n",
    "from selenium.webdriver.support import expected_conditions as EC\n",
    "from selenium.webdriver.support.wait import WebDriverWait\n",
    "broswer=webdriver.Chrome()\n",
    "try:\n",
    "    broswer.get(\"https://www.taobao.com\")\n",
    "    input_first=broswer.find_element(By.ID,'q')\n",
    "    print(input_first)\n",
    "    broswer.close\n",
    "#     input=broswer.find_element_by_id('kw')\n",
    "#     input.send_keys('Python')\n",
    "#     input.send_keys(Keys.ENTER)\n",
    "#     wait=WebDriverWait(broswer,10)\n",
    "#     wait.until(EC.presence_of_element_located((By.ID,'content_left')))\n",
    "#     print(broswer.current_url)\n",
    "#     print(broswer.get_cookies())\n",
    "finally:\n",
    "    pass\n",
    "    #broswer.close()\n",
    "        \n"
   ]
  },
  {
   "cell_type": "code",
   "execution_count": 11,
   "metadata": {},
   "outputs": [],
   "source": [
    "# from selenium import webdriver\n",
    "# from selenium.webdriver import ActionChains\n",
    "# broswer=webdriver.Chrome()\n",
    "# url=\"http://www.runoob.com/try/try.php?filename=jqueryui-api-droppable\"\n",
    "# broswer.get(url)\n",
    "# broswer.switch_to.frame('iframeResult')\n",
    "# source=broswer.find_element_by_css_selector('#draggable')\n",
    "# target=broswer.find_element_by_css_selector('#droppable')\n",
    "# actions=ActionChains(broswer)\n",
    "# actions.drag_and_drop(source,target)\n",
    "# actions.perform()\n",
    "# broswer.close()\n",
    "\n",
    "from selenium import webdriver\n",
    "broswer=webdriver.Chrome()\n",
    "broswer.get('https://www.zhihu.com/explore')\n",
    "broswer.execute_script('window.scrollTo(0,document.body.scrollHeight)')\n",
    "broswer.execute_script('alert(\"To bottem\")')\n",
    "# broswer.close()\n",
    "\n",
    "# <a id=\"index-enter-default\" href=\"#\" onclick=\"top.login();return false;\" class=\"btn s-bg s-bg-2 f-tdn\" tabindex=\"1\">用户登录</a>"
   ]
  },
  {
   "cell_type": "code",
   "execution_count": 16,
   "metadata": {},
   "outputs": [
    {
     "name": "stdout",
     "output_type": "stream",
     "text": [
      "<selenium.webdriver.remote.webelement.WebElement (session=\"0548691e78eb9284228ebb77368108fd\", element=\"0.7870866493959441-1\")>\n"
     ]
    }
   ],
   "source": [
    "from selenium import webdriver\n",
    "from selenium.webdriver.common.by import By\n",
    "broswer=webdriver.Chrome()\n",
    "broswer.get('https://music.163.com')\n",
    "button=broswer.find_element_by_class_name('btn')\n",
    "print(button)\n",
    "button.click()\n"
   ]
  },
  {
   "cell_type": "code",
   "execution_count": null,
   "metadata": {},
   "outputs": [],
   "source": []
  }
 ],
 "metadata": {
  "kernelspec": {
   "display_name": "Python 3",
   "language": "python",
   "name": "python3"
  },
  "language_info": {
   "codemirror_mode": {
    "name": "ipython",
    "version": 3
   },
   "file_extension": ".py",
   "mimetype": "text/x-python",
   "name": "python",
   "nbconvert_exporter": "python",
   "pygments_lexer": "ipython3",
   "version": "3.6.5"
  }
 },
 "nbformat": 4,
 "nbformat_minor": 2
}
