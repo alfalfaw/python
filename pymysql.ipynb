{
 "cells": [
  {
   "cell_type": "code",
   "execution_count": 1,
   "metadata": {},
   "outputs": [
    {
     "name": "stdout",
     "output_type": "stream",
     "text": [
      "caching sha2: succeeded by fast path.\n",
      "Database version: ('8.0.11',)\n"
     ]
    },
    {
     "name": "stderr",
     "output_type": "stream",
     "text": [
      "/anaconda3/lib/python3.6/site-packages/pymysql/cursors.py:170: Warning: (3719, \"'utf8' is currently an alias for the character set UTF8MB3, which will be replaced by UTF8MB4 in a future release. Please consider using UTF8MB4 in order to be unambiguous.\")\n",
      "  result = self._query(query)\n"
     ]
    }
   ],
   "source": [
    "import pymysql\n",
    "db=pymysql.connect(host='localhost',user='root',password='limu123456',port=3306)\n",
    "cursor=db.cursor()\n",
    "cursor.execute('SELECT VERSION()')\n",
    "data=cursor.fetchone()\n",
    "print('Database version:',data)\n",
    "cursor.execute('CREATE DATABASE spiders DEFAULT CHARACTER SET utf8')\n",
    "db.close()"
   ]
  },
  {
   "cell_type": "code",
   "execution_count": null,
   "metadata": {},
   "outputs": [],
   "source": [
    "impirt pymysql\n",
    "data={\n",
    "    'item1':'value1',\n",
    "    'item2':'value2',\n",
    "    'item3':'value3'\n",
    "}\n",
    "table='tablename'\n",
    "keys=','.join(data.keys())\n",
    "values=','.join('[%s]'*len(data))\n",
    "sql='INSERT INTO {table}({keys}) VALUES({values})'.format(table=table,keys=keys,vlaues=values)\n",
    "\n",
    "db=pysql.connect(host='localhost',user='root',password='limu123456',port='3306',db='spiders')\n",
    "cursor=db.cursor()\n",
    "\n",
    "try:\n",
    "    if cursor.execute(sql,tuple(data.values())):\n",
    "        print('Successful')\n",
    "        db.commit()\n",
    "except:\n",
    "    print('Failed')\n",
    "    db.rollback()\n",
    "db.close()\n",
    "\n",
    "\n",
    "\n",
    "# 更新\n",
    "sql='INSERT INTO {table} ({keys}) VALUES({values}) ON DUPLICATE KEY UPDATE '.format(table=table,keys=keys,values=values)\n",
    "\n",
    "update=','.join(['{key}=%s'.format(key=key) for key in data])\n",
    "sql+=update\n",
    "try:\n",
    "    if cursor.execute(sql,tuple(data.values())*2):\n",
    "        print('Successful')\n",
    "        db.commit()\n",
    "except:\n",
    "    print('Failed')\n",
    "    db.rollback()\n",
    "db.close()\n",
    "\n",
    "# 删除\n",
    "\n",
    "sql='DELETE FROM {table} WHERE {condition}'.format(table=table,condition=condition)\n",
    "\n",
    "# 查询\n",
    "sql='SELECT * FROM {table} WHERE {condition}'.format(table=table,condition=condition)\n",
    "\n",
    "#fetchall() and fetchone()\n",
    "row=cursor.fetchone()\n",
    "while row:\n",
    "    print(row)\n",
    "    row=c\n"
   ]
  }
 ],
 "metadata": {
  "kernelspec": {
   "display_name": "Python 3",
   "language": "python",
   "name": "python3"
  },
  "language_info": {
   "codemirror_mode": {
    "name": "ipython",
    "version": 3
   },
   "file_extension": ".py",
   "mimetype": "text/x-python",
   "name": "python",
   "nbconvert_exporter": "python",
   "pygments_lexer": "ipython3",
   "version": "3.6.5"
  }
 },
 "nbformat": 4,
 "nbformat_minor": 2
}
