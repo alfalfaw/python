{
 "cells": [
  {
   "cell_type": "code",
   "execution_count": 6,
   "metadata": {},
   "outputs": [
    {
     "name": "stdout",
     "output_type": "stream",
     "text": [
      "https://weibo.com/p/1005053197187502/follow?pid=Pl_Official_HisRelation__59&relate=fans&page=2&ajaxpagelet=1&ajaxpagelet_v6=1\n"
     ]
    }
   ],
   "source": [
    "from urllib.parse import urlencode\n",
    "import requests\n",
    "from pyquery import PyQuery as pq\n",
    "\n",
    "base_url=\"https://weibo.com/p/1005053197187502/follow?\"\n",
    "headers={\n",
    "    'Host':'weibo.com',\n",
    "    'Referer':'https://weibo.com/p/1005053197187502',\n",
    "    'User-Agent':'Mozilla/5.0 (Macintosh; Intel Mac OS X 10_13_4) AppleWebKit/605.1.15 (KHTML, like Gecko) Version/11.1 Safari/605.1.15',\n",
    "    'X-Requested-With':'XMLHttpRequest'\n",
    "}\n",
    "def get_page(page):\n",
    "    params={\n",
    "        'pid':'Pl_Official_HisRelation__59',\n",
    "        'relate':'fans',\n",
    "        'page':page,\n",
    "        'ajaxpagelet':1,\n",
    "        'ajaxpagelet_v6': 1\n",
    "        \n",
    "        \n",
    "    }\n",
    "    url=base_url+urlencode(params)\n",
    "    print(url)\n",
    "    try:\n",
    "        response=requests.get(url,headers=headers)\n",
    "        if response.status_code==200:\n",
    "            print(response)\n",
    "            return response.json()\n",
    "    except requests.ConnectionError as e:\n",
    "        print('Error',e.args)\n",
    "        \n",
    "def parse_page(json):\n",
    "    if json:\n",
    "        items=json.get('data').get('cards')\n",
    "        for item in items:\n",
    "            item=item.get('mblog')\n",
    "            if item is None:\n",
    "                continue\n",
    "            weibo={}\n",
    "            weibo['date']=item.get('created_at')\n",
    "            weibo['id']=item.get('id')\n",
    "            weibo['text']=pq(item.get('text')).text()\n",
    "            weibo['source']=item.get('source')\n",
    "            weibo['attitudes']=item.get('attitudes_count')\n",
    "            weibo['comments']=item.get('comments_count')\n",
    "            weibo['reposts']=item.get('reposts_count')\n",
    "            \n",
    "            yield weibo\n",
    "            \n",
    "        \n",
    "# if __name__ =='__main__':\n",
    "#     for i in range(1,100):\n",
    "get_page(2)\n",
    "#         results=parse_page(json)\n",
    "#         for result in results:\n",
    "#             with open ('/Users/limuyle/Desktop/weibo.txt','a',encoding='utf-8') as f:\n",
    "#                 f.write(str('date: '+result['date']+'\\n'+'text: '+result['text'].replace('\\n','\\t')+'\\n'+'source: '+result['source']+'\\t'+'attitudes: '+str(result['attitudes'])+'\\t'+'comments: '+str(result['comments'])+'\\t'+'reposts: '+str(result['reposts'])))\n",
    "#                 f.write('\\n')\n",
    "#     print('OK')"
   ]
  },
  {
   "cell_type": "code",
   "execution_count": null,
   "metadata": {},
   "outputs": [],
   "source": []
  },
  {
   "cell_type": "code",
   "execution_count": null,
   "metadata": {},
   "outputs": [],
   "source": []
  }
 ],
 "metadata": {
  "kernelspec": {
   "display_name": "Python 3",
   "language": "python",
   "name": "python3"
  },
  "language_info": {
   "codemirror_mode": {
    "name": "ipython",
    "version": 3
   },
   "file_extension": ".py",
   "mimetype": "text/x-python",
   "name": "python",
   "nbconvert_exporter": "python",
   "pygments_lexer": "ipython3",
   "version": "3.6.5"
  }
 },
 "nbformat": 4,
 "nbformat_minor": 2
}
