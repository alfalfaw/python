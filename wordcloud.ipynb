{
 "cells": [
  {
   "cell_type": "code",
   "execution_count": null,
   "metadata": {},
   "outputs": [],
   "source": [
    "from wordcloud import WordCloud,ImageColorGenerator \n",
    "import jieba        #分词库\n",
    "import imageio\n",
    "import numpy as np    #科学数学计算包\n",
    "import matplotlib.pyplot as plt   #数学绘图库\n",
    "from PIL import Image\n",
    "import re\n",
    "\n",
    "# color_mask=imageio.imread('/Users/limuyle/Desktop/timg.jpg')\n",
    "def get_wordcloud(imagepath,filepath,savepath):\n",
    "    with open(filepath) as f:\n",
    "#         读取文本\n",
    "        txt=f.read()\n",
    "#         分词\n",
    "        cut_txt=jieba.cut(txt,cut_all=False)\n",
    "        result=\"/\".join(cut_txt)\n",
    "#         制作背景图\n",
    "#         image=Image.open(imagepath)\n",
    "#         graph=np.array(image)\n",
    "        pic=imageio.imread(imagepath)\n",
    "\n",
    "        cloud=WordCloud(font_path='/Users/limuyle/Downloads/simhei.ttf',background_color='white',mask=pic,width=1000,height=500,max_font_size=50,max_words=2000)\n",
    "        wordcloud=cloud.generate(result)\n",
    "        \n",
    "#         重新绘色\n",
    "       \n",
    "#         image_color=ImageColorGenerator(graph)\n",
    "#         wordcloud.recolor(color_func=image_color)\n",
    "    \n",
    "#        保存并展示图片\n",
    "        wordcloud.to_file(savepath)\n",
    "        plt.figure('wordcloud')\n",
    "        plt.imshow(wordcloud)\n",
    "        plt.axis(\"off\")\n",
    "        plt.show()\n",
    "        \n",
    "if __name__ == '__main__':\n",
    "#     背景图路径，文本路径，保存文件路径\n",
    "    get_wordcloud('/Users/limuyle/Desktop/wordcloud/yaya/redheart.jpg','/Users/limuyle/Desktop/wordcloud/yaya/bilibilicomments.txt','/Users/limuyle/Desktop/wordcloud/yaya/wordcloud.jpg')"
   ]
  }
 ],
 "metadata": {
  "kernelspec": {
   "display_name": "Python 3",
   "language": "python",
   "name": "python3"
  },
  "language_info": {
   "codemirror_mode": {
    "name": "ipython",
    "version": 3
   },
   "file_extension": ".py",
   "mimetype": "text/x-python",
   "name": "python",
   "nbconvert_exporter": "python",
   "pygments_lexer": "ipython3",
   "version": "3.6.5"
  }
 },
 "nbformat": 4,
 "nbformat_minor": 2
}
